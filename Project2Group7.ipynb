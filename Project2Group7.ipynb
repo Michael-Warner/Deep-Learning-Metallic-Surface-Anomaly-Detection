{
 "cells": [
  {
   "cell_type": "markdown",
   "metadata": {},
   "source": [
    "# Convolutional Neural Networks with Pytorch\n",
    "# Detection of Defects on Metallic Surfaces\n",
    "\n",
    "## Possible Business Use Cases\n",
    "\n",
    "This neural network can be applied to the **iron and steel industry** or **machine manufacturers** as it can help to identify defects on the surface of a metal part produced by a casting process.  \n",
    "\n",
    "An inspection system should be set up and collect the **binary images** using vision technology. Connected components of these images are processed to **find the shadows** originated from defects. Then convert these images into pixels before passing into the **neural network** which will be processing on **GPUs** to accelerate the computation speed.\n"
   ]
  },
  {
   "cell_type": "markdown",
   "metadata": {},
   "source": [
    "### Import the libraries and set the random seed"
   ]
  },
  {
   "cell_type": "code",
   "execution_count": 1,
   "metadata": {},
   "outputs": [],
   "source": [
    "import os\n",
    "import cv2\n",
    "import numpy as np\n",
    "from tqdm import tqdm # for showing the progess bar\n",
    "from torchvision import datasets, transforms, models\n",
    "from numpy import random\n",
    "import torch\n",
    "import torch.nn as nn\n",
    "import torch.nn.functional as F\n"
   ]
  },
  {
   "cell_type": "code",
   "execution_count": 2,
   "metadata": {},
   "outputs": [
    {
     "data": {
      "text/plain": [
       "<torch._C.Generator at 0x2400a41d210>"
      ]
     },
     "execution_count": 2,
     "metadata": {},
     "output_type": "execute_result"
    }
   ],
   "source": [
    "manualSeed = 999\n",
    "\n",
    "np.random.seed(manualSeed)\n",
    "random.seed(manualSeed)\n",
    "torch.manual_seed(manualSeed)"
   ]
  },
  {
   "cell_type": "markdown",
   "metadata": {},
   "source": [
    "## Detection Process\n",
    "\n",
    "### Step 1 : Import the data(images)\n"
   ]
  },
  {
   "cell_type": "code",
   "execution_count": 3,
   "metadata": {},
   "outputs": [
    {
     "name": "stderr",
     "output_type": "stream",
     "text": [
      " 42%|████▏     | 125/300 [00:00<00:00, 1239.03it/s]"
     ]
    },
    {
     "name": "stdout",
     "output_type": "stream",
     "text": [
      "Database/Crazing\n"
     ]
    },
    {
     "name": "stderr",
     "output_type": "stream",
     "text": [
      "100%|██████████| 300/300 [00:00<00:00, 1145.84it/s]\n",
      " 36%|███▌      | 107/300 [00:00<00:00, 1060.57it/s]"
     ]
    },
    {
     "name": "stdout",
     "output_type": "stream",
     "text": [
      "Database/Inclusions\n"
     ]
    },
    {
     "name": "stderr",
     "output_type": "stream",
     "text": [
      "100%|██████████| 300/300 [00:00<00:00, 1102.03it/s]\n",
      " 33%|███▎      | 99/300 [00:00<00:00, 986.89it/s]"
     ]
    },
    {
     "name": "stdout",
     "output_type": "stream",
     "text": [
      "Database/Patches\n"
     ]
    },
    {
     "name": "stderr",
     "output_type": "stream",
     "text": [
      "100%|██████████| 300/300 [00:00<00:00, 1472.90it/s]\n",
      " 55%|█████▌    | 166/300 [00:00<00:00, 1649.54it/s]"
     ]
    },
    {
     "name": "stdout",
     "output_type": "stream",
     "text": [
      "Database/PittedSurface\n"
     ]
    },
    {
     "name": "stderr",
     "output_type": "stream",
     "text": [
      "100%|██████████| 300/300 [00:00<00:00, 1314.70it/s]\n",
      " 36%|███▌      | 108/300 [00:00<00:00, 1071.58it/s]"
     ]
    },
    {
     "name": "stdout",
     "output_type": "stream",
     "text": [
      "Database/RolledInScale\n"
     ]
    },
    {
     "name": "stderr",
     "output_type": "stream",
     "text": [
      "100%|██████████| 300/300 [00:00<00:00, 940.04it/s] \n",
      " 43%|████▎     | 130/300 [00:00<00:00, 1290.41it/s]"
     ]
    },
    {
     "name": "stdout",
     "output_type": "stream",
     "text": [
      "Database/Scratches\n"
     ]
    },
    {
     "name": "stderr",
     "output_type": "stream",
     "text": [
      "100%|██████████| 300/300 [00:00<00:00, 1224.00it/s]\n"
     ]
    },
    {
     "name": "stdout",
     "output_type": "stream",
     "text": [
      "crazing: 300\n",
      "inclusions: 300\n",
      "patches: 300\n",
      "pittedSurface: 300\n",
      "rolledInScale: 300\n",
      "scratches: 300\n"
     ]
    }
   ],
   "source": [
    "REBUILD_DATA = True # set to true to one once, then back to false unless you want to change something in the training data\n",
    "\n",
    "class DefectClass():\n",
    "    IMG_SIZE = 200 # image size is 200x200\n",
    "    \n",
    "    # Directory of the images\n",
    "    crazing = 'Database/Crazing'\n",
    "    inclusions = 'Database/Inclusions'\n",
    "    patches = 'Database/Patches'\n",
    "    pittedSurface = 'Database/PittedSurface'\n",
    "    rolledInScale = 'Database/RolledInScale'\n",
    "    scratches = 'Database/Scratches'\n",
    "    \n",
    "    # Assign a label to each class\n",
    "    LABELS = {crazing : 0 , inclusions : 1 , patches : 2, pittedSurface : 3, rolledInScale : 4, scratches : 5}\n",
    "    training_data = [] # Create a list of the training data\n",
    "    \n",
    "    # For counting the number of images of each class\n",
    "    crazingcount = 0\n",
    "    inclusionscount = 0\n",
    "    patchescount = 0\n",
    "    pittedSurfacecount = 0\n",
    "    rolledInScalecount = 0\n",
    "    scratchescount = 0\n",
    "    \n",
    "    \n",
    "\n",
    "    # Import the images to the corresponding category\n",
    "    def make_training_data(self):\n",
    "        for label in self.LABELS:\n",
    "            print(label)\n",
    "            for f in tqdm(os.listdir(label)): # Iterating through the directories\n",
    "                if \"bmp\" in f :\n",
    "                    try:\n",
    "                        path = os.path.join(label, f) # The path consist of directory and the file of image(bmp)\n",
    "                        img = cv2.imread(path, cv2.IMREAD_GRAYSCALE) # Convert to grayscale\n",
    "                        img = cv2.resize(img, (self.IMG_SIZE, self.IMG_SIZE)) # Resize the image to 200x200\n",
    "                        self.training_data.append([np.array(img), np.eye(6)[self.LABELS[label]]])  # Add the image along with the associated class in number form to our training_data\n",
    "                        # np.eye(6)[self.LABELS[label]]] makes the label one-hot encoded across 6 classes\n",
    "                        \n",
    "                        \n",
    "                        # Count the number of images of each class\n",
    "                        if label == self.crazing:\n",
    "                            self.crazingcount += 1\n",
    "                        elif label == self.inclusions:\n",
    "                            self.inclusionscount += 1\n",
    "                        elif label == self.patches:\n",
    "                            self.patchescount += 1\n",
    "                        elif label == self.pittedSurface:\n",
    "                            self.pittedSurfacecount += 1\n",
    "                        elif label == self.rolledInScale:\n",
    "                            self.rolledInScalecount += 1\n",
    "                        elif label == self.scratches:\n",
    "                            self.scratchescount += 1\n",
    "\n",
    "                    except Exception as e: # In case not an image file, pass it\n",
    "                        pass\n",
    "                        print(label, f, str(e))\n",
    "                        \n",
    "        np.random.seed(999) # Set the random seed \n",
    "        np.random.shuffle(self.training_data) # Shuffle the training data\n",
    "        np.save(\"training_data.npy\", self.training_data) # Save the training data as a .npy file\n",
    "        \n",
    "        print('crazing:',self.crazingcount)\n",
    "        print('inclusions:',self.inclusionscount)\n",
    "        print('patches:',self.patchescount)\n",
    "        print('pittedSurface:',self.pittedSurfacecount)\n",
    "        print('rolledInScale:',self.rolledInScalecount)\n",
    "        print('scratches:',self.scratchescount)\n",
    "\n",
    "# If the switch (rebuild_data) is on, the data set(.npy) will be overwritten        \n",
    "if REBUILD_DATA:\n",
    "    defect = DefectClass()\n",
    "    defect.make_training_data()\n"
   ]
  },
  {
   "cell_type": "markdown",
   "metadata": {},
   "source": [
    "We have a balanced data set as there are 300 images for every class.\n",
    "\n",
    "\n",
    "#### Load the data from the .npy saved previously and check the number of data points in the whole data set."
   ]
  },
  {
   "cell_type": "code",
   "execution_count": 4,
   "metadata": {},
   "outputs": [
    {
     "name": "stdout",
     "output_type": "stream",
     "text": [
      "1800\n"
     ]
    }
   ],
   "source": [
    "\n",
    "training_data = np.load(\"training_data.npy\", allow_pickle=True)\n",
    "print(len(training_data))"
   ]
  },
  {
   "cell_type": "markdown",
   "metadata": {},
   "source": [
    "### Step 2 : Split the Data Set into X and y\n",
    "### And convert it to a tensor"
   ]
  },
  {
   "cell_type": "code",
   "execution_count": 5,
   "metadata": {},
   "outputs": [],
   "source": [
    "X = torch.Tensor([i[0] for i in training_data]).view(-1,200,200) # (-1, IMG_SIZE, IMG_SIZE)\n",
    "X = X/255.0 # Normalize the pixel of the images (i.e. between 0 and 1)\n",
    "y = torch.Tensor([i[1] for i in training_data])"
   ]
  },
  {
   "cell_type": "markdown",
   "metadata": {},
   "source": [
    "#### Check if X and y are correctly seperated"
   ]
  },
  {
   "cell_type": "code",
   "execution_count": 6,
   "metadata": {},
   "outputs": [
    {
     "data": {
      "text/plain": [
       "<matplotlib.image.AxesImage at 0x24017a7e7c0>"
      ]
     },
     "execution_count": 6,
     "metadata": {},
     "output_type": "execute_result"
    },
    {
     "data": {
      "image/png": "[encoded data removed]",
      "text/plain": [
       "<Figure size 432x288 with 1 Axes>"
      ]
     },
     "metadata": {
      "needs_background": "light"
     },
     "output_type": "display_data"
    }
   ],
   "source": [
    "import matplotlib.pyplot as plt\n",
    "\n",
    "plt.imshow(X[0], cmap=\"gray\")"
   ]
  },
  {
   "cell_type": "code",
   "execution_count": 7,
   "metadata": {},
   "outputs": [
    {
     "name": "stdout",
     "output_type": "stream",
     "text": [
      "tensor([0., 0., 0., 0., 0., 1.])\n"
     ]
    }
   ],
   "source": [
    "# LABELS = {crazing : 0 , inclusions : 1 , patches : 2, pittedSurface : 3, \n",
    "# rolledInScale : 4, scratches : 5}\n",
    "\n",
    "print(y[0])"
   ]
  },
  {
   "cell_type": "markdown",
   "metadata": {},
   "source": [
    "This picture is a metal surface with scratches as it is under class 5."
   ]
  },
  {
   "cell_type": "markdown",
   "metadata": {},
   "source": [
    "### Step 3 : Train-Test Split"
   ]
  },
  {
   "cell_type": "code",
   "execution_count": 8,
   "metadata": {},
   "outputs": [
    {
     "name": "stdout",
     "output_type": "stream",
     "text": [
      "The number of test images : 540\n"
     ]
    }
   ],
   "source": [
    "VAL_PCT = 0.3 # Reserve 30% of data for validation\n",
    "val_size = int(len(X)*VAL_PCT)\n",
    "print(f'The number of test images : {val_size}')"
   ]
  },
  {
   "cell_type": "code",
   "execution_count": 9,
   "metadata": {},
   "outputs": [],
   "source": [
    "torch.manual_seed(999)\n",
    "\n",
    "# Training set (first 1260 images)\n",
    "train_X = X[:-val_size]\n",
    "train_y = y[:-val_size]\n",
    "\n",
    "# Testing set ( last 540 imaages)\n",
    "test_X = X[-val_size:]\n",
    "test_y = y[-val_size:]"
   ]
  },
  {
   "cell_type": "markdown",
   "metadata": {},
   "source": [
    "### Step 4 : Build a Convolutional Neural Network\n",
    "\n",
    "A convolutional neural network aims to use a **sliding window (a kernel)** that takes into account a group of pixels, to recognize small features like \"edges\" or \"curves\" and then another layer might take combinations of edges or curves to detect shapes like squares or circles in order to find the pattern or features of the images."
   ]
  },
  {
   "cell_type": "code",
   "execution_count": 10,
   "metadata": {},
   "outputs": [
    {
     "name": "stdout",
     "output_type": "stream",
     "text": [
      "Net(\n",
      "  (conv1): Conv2d(1, 32, kernel_size=(5, 5), stride=(1, 1))\n",
      "  (conv2): Conv2d(32, 64, kernel_size=(5, 5), stride=(1, 1))\n",
      "  (conv3): Conv2d(64, 128, kernel_size=(5, 5), stride=(1, 1))\n",
      "  (fc1): Linear(in_features=3200, out_features=512, bias=True)\n",
      "  (fc2): Linear(in_features=512, out_features=256, bias=True)\n",
      "  (fc3): Linear(in_features=256, out_features=6, bias=True)\n",
      ")\n"
     ]
    }
   ],
   "source": [
    "class Net(nn.Module):\n",
    "    def __init__(self):\n",
    "        super().__init__() # Run the init of parent class (nn.Module)\n",
    "        self.conv1 = nn.Conv2d(1, 32, 5) # input is 1 image, 32 output channels, 5x5 kernel / window\n",
    "        self.conv2 = nn.Conv2d(32, 64, 5) # input is 32(first layer output), output will be 64 channels, 5x5 kernel / window\n",
    "        self.conv3 = nn.Conv2d(64, 128, 5) # input is 64(second layer output), 128 output channels, 5x5 kernel / window\n",
    "\n",
    "        # Determine the actual shape of the flattened output after the first convolutional layers  \n",
    "        x = torch.randn(200,200).view(-1,1,200,200) # Pass some random data to generate the flatten output\n",
    "        self._to_linear = None # Set the flatten output as NA\n",
    "        self.convs(x) # Apply the conversion function (below)\n",
    "        \n",
    "        # Add the dense/linear layer to the network\n",
    "        self.fc1 = nn.Linear(self._to_linear, 512) # From the flatten output of the last convolutional layer as input\n",
    "        self.fc2 = nn.Linear(512, 256) # 512 input ( the output of the first dense/linear layer)\n",
    "        self.fc3 = nn.Linear(256, 6) # 6 outputs ( 6 classes)\n",
    "\n",
    "      \n",
    "    def convs(self, x):\n",
    "        # Apply rectified linear on each convolutional layers (F.relu)\n",
    "        # With max pooling over 3x3\n",
    "        # Simply take the maximum value in the window, and that becomes the new value for that region.\n",
    "        x = F.max_pool2d(F.relu(self.conv1(x)), (3, 3))\n",
    "        x = F.max_pool2d(F.relu(self.conv2(x)), (3, 3))\n",
    "        x = F.max_pool2d(F.relu(self.conv3(x)), (3, 3))\n",
    "\n",
    "        if self._to_linear is None: # Calculate the flatten output of the convolutional layer \n",
    "            self._to_linear = x[0].shape[0]*x[0].shape[1]*x[0].shape[2] # Flatten output = the dimensions of the tensor(x,y,z) : x*y*z\n",
    "        return x # Continue to be passed through more layers\n",
    "\n",
    "    def forward(self, x):\n",
    "        x = self.convs(x) # Get the calculated output of the convolutional layer\n",
    "        x = x.view(-1, self._to_linear)  # Flatten the output of the convolutional layer(.view is reshape)\n",
    "        x = F.relu(self.fc1(x)) # Apply the rectified linear unit function on the first fully connected layer\n",
    "        x = F.relu(self.fc2(x)) # Apply the rectified linear unit function on the second fully connected layer\n",
    "        x = self.fc3(x) # Output layer. No activation needed.\n",
    "        return F.softmax(x, dim=1) # Softmax layer determines the likelihood of that one item being to a class\n",
    "\n",
    "\n",
    "net = Net()\n",
    "print(net)"
   ]
  },
  {
   "cell_type": "markdown",
   "metadata": {},
   "source": [
    "### Loss Metric and Optimizer"
   ]
  },
  {
   "cell_type": "code",
   "execution_count": 11,
   "metadata": {},
   "outputs": [],
   "source": [
    "import torch.optim as optim\n",
    "\n",
    "# Use Adam optimizer\n",
    "optimizer = optim.Adam(net.parameters(), lr=0.001) # The learning rate dictates the magnitude of changes that the optimizer can make at a time\n",
    "loss_function = nn.MSELoss() # Use mean squared error as the loss function because we are using one-hot vectors"
   ]
  },
  {
   "cell_type": "markdown",
   "metadata": {},
   "source": [
    "### Step 5 : Train the Neural Network"
   ]
  },
  {
   "cell_type": "code",
   "execution_count": 12,
   "metadata": {},
   "outputs": [
    {
     "name": "stderr",
     "output_type": "stream",
     "text": [
      "  0%|          | 0/126 [00:00<?, ?it/s]C:\\Users\\suki9\\Anaconda3\\lib\\site-packages\\torch\\autograd\\__init__.py:130: UserWarning: CUDA initialization: Found no NVIDIA driver on your system. Please check that you have an NVIDIA GPU and installed a driver from http://www.nvidia.com/Download/index.aspx (Triggered internally at  ..\\c10\\cuda\\CUDAFunctions.cpp:100.)\n",
      "  Variable._execution_engine.run_backward(\n",
      "100%|██████████| 126/126 [01:25<00:00,  1.47it/s]\n",
      "  0%|          | 0/126 [00:00<?, ?it/s]"
     ]
    },
    {
     "name": "stdout",
     "output_type": "stream",
     "text": [
      "Epoch: 0. Loss: 0.11637984961271286\n"
     ]
    },
    {
     "name": "stderr",
     "output_type": "stream",
     "text": [
      "100%|██████████| 126/126 [01:26<00:00,  1.46it/s]\n",
      "  0%|          | 0/126 [00:00<?, ?it/s]"
     ]
    },
    {
     "name": "stdout",
     "output_type": "stream",
     "text": [
      "Epoch: 1. Loss: 0.07807033509016037\n"
     ]
    },
    {
     "name": "stderr",
     "output_type": "stream",
     "text": [
      "100%|██████████| 126/126 [01:25<00:00,  1.47it/s]\n",
      "  0%|          | 0/126 [00:00<?, ?it/s]"
     ]
    },
    {
     "name": "stdout",
     "output_type": "stream",
     "text": [
      "Epoch: 2. Loss: 0.07199151813983917\n"
     ]
    },
    {
     "name": "stderr",
     "output_type": "stream",
     "text": [
      "100%|██████████| 126/126 [01:27<00:00,  1.44it/s]\n",
      "  0%|          | 0/126 [00:00<?, ?it/s]"
     ]
    },
    {
     "name": "stdout",
     "output_type": "stream",
     "text": [
      "Epoch: 3. Loss: 0.04651413485407829\n"
     ]
    },
    {
     "name": "stderr",
     "output_type": "stream",
     "text": [
      "100%|██████████| 126/126 [01:30<00:00,  1.39it/s]\n",
      "  0%|          | 0/126 [00:00<?, ?it/s]"
     ]
    },
    {
     "name": "stdout",
     "output_type": "stream",
     "text": [
      "Epoch: 4. Loss: 0.01247488334774971\n"
     ]
    },
    {
     "name": "stderr",
     "output_type": "stream",
     "text": [
      "100%|██████████| 126/126 [01:32<00:00,  1.36it/s]\n",
      "  0%|          | 0/126 [00:00<?, ?it/s]"
     ]
    },
    {
     "name": "stdout",
     "output_type": "stream",
     "text": [
      "Epoch: 5. Loss: 0.032378390431404114\n"
     ]
    },
    {
     "name": "stderr",
     "output_type": "stream",
     "text": [
      "100%|██████████| 126/126 [01:31<00:00,  1.37it/s]\n",
      "  0%|          | 0/126 [00:00<?, ?it/s]"
     ]
    },
    {
     "name": "stdout",
     "output_type": "stream",
     "text": [
      "Epoch: 6. Loss: 0.027361268177628517\n"
     ]
    },
    {
     "name": "stderr",
     "output_type": "stream",
     "text": [
      "100%|██████████| 126/126 [01:30<00:00,  1.40it/s]\n",
      "  0%|          | 0/126 [00:00<?, ?it/s]"
     ]
    },
    {
     "name": "stdout",
     "output_type": "stream",
     "text": [
      "Epoch: 7. Loss: 0.023606138303875923\n"
     ]
    },
    {
     "name": "stderr",
     "output_type": "stream",
     "text": [
      "100%|██████████| 126/126 [01:26<00:00,  1.45it/s]\n",
      "  0%|          | 0/126 [00:00<?, ?it/s]"
     ]
    },
    {
     "name": "stdout",
     "output_type": "stream",
     "text": [
      "Epoch: 8. Loss: 0.023693514987826347\n"
     ]
    },
    {
     "name": "stderr",
     "output_type": "stream",
     "text": [
      "100%|██████████| 126/126 [01:29<00:00,  1.41it/s]\n",
      "  0%|          | 0/126 [00:00<?, ?it/s]"
     ]
    },
    {
     "name": "stdout",
     "output_type": "stream",
     "text": [
      "Epoch: 9. Loss: 0.07659458369016647\n"
     ]
    },
    {
     "name": "stderr",
     "output_type": "stream",
     "text": [
      "100%|██████████| 126/126 [01:33<00:00,  1.35it/s]\n",
      "  0%|          | 0/126 [00:00<?, ?it/s]"
     ]
    },
    {
     "name": "stdout",
     "output_type": "stream",
     "text": [
      "Epoch: 10. Loss: 0.02748042345046997\n"
     ]
    },
    {
     "name": "stderr",
     "output_type": "stream",
     "text": [
      "100%|██████████| 126/126 [01:31<00:00,  1.38it/s]\n",
      "  0%|          | 0/126 [00:00<?, ?it/s]"
     ]
    },
    {
     "name": "stdout",
     "output_type": "stream",
     "text": [
      "Epoch: 11. Loss: 0.029116252437233925\n"
     ]
    },
    {
     "name": "stderr",
     "output_type": "stream",
     "text": [
      "100%|██████████| 126/126 [01:40<00:00,  1.26it/s]\n",
      "  0%|          | 0/126 [00:00<?, ?it/s]"
     ]
    },
    {
     "name": "stdout",
     "output_type": "stream",
     "text": [
      "Epoch: 12. Loss: 0.0296418946236372\n"
     ]
    },
    {
     "name": "stderr",
     "output_type": "stream",
     "text": [
      "100%|██████████| 126/126 [01:32<00:00,  1.36it/s]\n",
      "  0%|          | 0/126 [00:00<?, ?it/s]"
     ]
    },
    {
     "name": "stdout",
     "output_type": "stream",
     "text": [
      "Epoch: 13. Loss: 0.021507274359464645\n"
     ]
    },
    {
     "name": "stderr",
     "output_type": "stream",
     "text": [
      "100%|██████████| 126/126 [01:42<00:00,  1.23it/s]\n",
      "  0%|          | 0/126 [00:00<?, ?it/s]"
     ]
    },
    {
     "name": "stdout",
     "output_type": "stream",
     "text": [
      "Epoch: 14. Loss: 0.022439980879426003\n"
     ]
    },
    {
     "name": "stderr",
     "output_type": "stream",
     "text": [
      "100%|██████████| 126/126 [01:36<00:00,  1.30it/s]\n",
      "  0%|          | 0/126 [00:00<?, ?it/s]"
     ]
    },
    {
     "name": "stdout",
     "output_type": "stream",
     "text": [
      "Epoch: 15. Loss: 0.02705010399222374\n"
     ]
    },
    {
     "name": "stderr",
     "output_type": "stream",
     "text": [
      "100%|██████████| 126/126 [01:35<00:00,  1.31it/s]\n",
      "  0%|          | 0/126 [00:00<?, ?it/s]"
     ]
    },
    {
     "name": "stdout",
     "output_type": "stream",
     "text": [
      "Epoch: 16. Loss: 0.0209891926497221\n"
     ]
    },
    {
     "name": "stderr",
     "output_type": "stream",
     "text": [
      "100%|██████████| 126/126 [01:24<00:00,  1.49it/s]\n",
      "  0%|          | 0/126 [00:00<?, ?it/s]"
     ]
    },
    {
     "name": "stdout",
     "output_type": "stream",
     "text": [
      "Epoch: 17. Loss: 0.02176443673670292\n"
     ]
    },
    {
     "name": "stderr",
     "output_type": "stream",
     "text": [
      "100%|██████████| 126/126 [01:28<00:00,  1.43it/s]\n",
      "  0%|          | 0/126 [00:00<?, ?it/s]"
     ]
    },
    {
     "name": "stdout",
     "output_type": "stream",
     "text": [
      "Epoch: 18. Loss: 0.023371612653136253\n"
     ]
    },
    {
     "name": "stderr",
     "output_type": "stream",
     "text": [
      "100%|██████████| 126/126 [01:57<00:00,  1.07it/s]\n",
      "  0%|          | 0/126 [00:00<?, ?it/s]"
     ]
    },
    {
     "name": "stdout",
     "output_type": "stream",
     "text": [
      "Epoch: 19. Loss: 0.024188004434108734\n"
     ]
    },
    {
     "name": "stderr",
     "output_type": "stream",
     "text": [
      "100%|██████████| 126/126 [01:52<00:00,  1.12it/s]\n",
      "  0%|          | 0/126 [00:00<?, ?it/s]"
     ]
    },
    {
     "name": "stdout",
     "output_type": "stream",
     "text": [
      "Epoch: 20. Loss: 0.019253678619861603\n"
     ]
    },
    {
     "name": "stderr",
     "output_type": "stream",
     "text": [
      "100%|██████████| 126/126 [01:46<00:00,  1.18it/s]\n",
      "  0%|          | 0/126 [00:00<?, ?it/s]"
     ]
    },
    {
     "name": "stdout",
     "output_type": "stream",
     "text": [
      "Epoch: 21. Loss: 0.02330251969397068\n"
     ]
    },
    {
     "name": "stderr",
     "output_type": "stream",
     "text": [
      "100%|██████████| 126/126 [01:46<00:00,  1.18it/s]\n",
      "  0%|          | 0/126 [00:00<?, ?it/s]"
     ]
    },
    {
     "name": "stdout",
     "output_type": "stream",
     "text": [
      "Epoch: 22. Loss: 0.015704309567809105\n"
     ]
    },
    {
     "name": "stderr",
     "output_type": "stream",
     "text": [
      "100%|██████████| 126/126 [01:47<00:00,  1.17it/s]\n",
      "  0%|          | 0/126 [00:00<?, ?it/s]"
     ]
    },
    {
     "name": "stdout",
     "output_type": "stream",
     "text": [
      "Epoch: 23. Loss: 0.02070016972720623\n"
     ]
    },
    {
     "name": "stderr",
     "output_type": "stream",
     "text": [
      "100%|██████████| 126/126 [02:02<00:00,  1.03it/s]\n",
      "  0%|          | 0/126 [00:00<?, ?it/s]"
     ]
    },
    {
     "name": "stdout",
     "output_type": "stream",
     "text": [
      "Epoch: 24. Loss: 0.02002200484275818\n"
     ]
    },
    {
     "name": "stderr",
     "output_type": "stream",
     "text": [
      "100%|██████████| 126/126 [01:52<00:00,  1.12it/s]\n",
      "  0%|          | 0/126 [00:00<?, ?it/s]"
     ]
    },
    {
     "name": "stdout",
     "output_type": "stream",
     "text": [
      "Epoch: 25. Loss: 0.026294177398085594\n"
     ]
    },
    {
     "name": "stderr",
     "output_type": "stream",
     "text": [
      "100%|██████████| 126/126 [01:36<00:00,  1.30it/s]\n",
      "  0%|          | 0/126 [00:00<?, ?it/s]"
     ]
    },
    {
     "name": "stdout",
     "output_type": "stream",
     "text": [
      "Epoch: 26. Loss: 0.015984218567609787\n"
     ]
    },
    {
     "name": "stderr",
     "output_type": "stream",
     "text": [
      "100%|██████████| 126/126 [01:38<00:00,  1.28it/s]\n",
      "  0%|          | 0/126 [00:00<?, ?it/s]"
     ]
    },
    {
     "name": "stdout",
     "output_type": "stream",
     "text": [
      "Epoch: 27. Loss: 0.015619063749909401\n"
     ]
    },
    {
     "name": "stderr",
     "output_type": "stream",
     "text": [
      "100%|██████████| 126/126 [01:34<00:00,  1.33it/s]\n",
      "  0%|          | 0/126 [00:00<?, ?it/s]"
     ]
    },
    {
     "name": "stdout",
     "output_type": "stream",
     "text": [
      "Epoch: 28. Loss: 0.027931513264775276\n"
     ]
    },
    {
     "name": "stderr",
     "output_type": "stream",
     "text": [
      "100%|██████████| 126/126 [01:31<00:00,  1.38it/s]"
     ]
    },
    {
     "name": "stdout",
     "output_type": "stream",
     "text": [
      "Epoch: 29. Loss: 0.016654158011078835\n"
     ]
    },
    {
     "name": "stderr",
     "output_type": "stream",
     "text": [
      "\n"
     ]
    }
   ],
   "source": [
    "BATCH_SIZE = 10\n",
    "EPOCHS = 30\n",
    "\n",
    "for epoch in range(EPOCHS):\n",
    "    for i in tqdm(range(0, len(train_X), BATCH_SIZE)): # From 0, to the len of x, stepping BATCH_SIZE at a time\n",
    "        #print(f\"{i}:{i+BATCH_SIZE}\")\n",
    "        batch_X = train_X[i:i+BATCH_SIZE].view(-1, 1, 200, 200) # Put the training set into batches \n",
    "        batch_y = train_y[i:i+BATCH_SIZE]\n",
    "\n",
    "        net.zero_grad() # Set gradients to 0 before loss calculation, otherwise these gradients will add up for every pass\n",
    "        \n",
    "        optimizer.zero_grad()   # Zero the gradient buffers\n",
    "        outputs = net(batch_X) # Pass in the reshaped batch\n",
    "        loss = loss_function(outputs, batch_y) # Calculate and grab the loss value\n",
    "        loss.backward() # Apply this loss backwards thru the network's parameters\n",
    "        optimizer.step()  # Attempt to optimize weights to account for loss/gradients\n",
    "\n",
    "    print(f\"Epoch: {epoch}. Loss: {loss}\")"
   ]
  },
  {
   "cell_type": "markdown",
   "metadata": {},
   "source": [
    "## Evaluation\n",
    "\n",
    "### Test the Accuracy of the Network\n",
    "\n",
    "Pass the testing set into the network and check the accuracy of the predictions."
   ]
  },
  {
   "cell_type": "code",
   "execution_count": 23,
   "metadata": {},
   "outputs": [
    {
     "name": "stdout",
     "output_type": "stream",
     "text": [
      "Images that cannot be identified correctly :\n",
      "7\n",
      "19\n",
      "21\n",
      "27\n",
      "67\n",
      "138\n",
      "146\n",
      "154\n",
      "164\n",
      "188\n",
      "217\n",
      "233\n",
      "234\n",
      "242\n",
      "251\n",
      "254\n",
      "271\n",
      "283\n",
      "331\n",
      "377\n",
      "380\n",
      "412\n",
      "415\n",
      "469\n",
      "477\n",
      "479\n",
      "533\n",
      "\n",
      "Number Of Images Tested = 540\n",
      "Number Of Images Correctly Identified = 513\n",
      "\n",
      "Accuracy:  0.95\n"
     ]
    }
   ],
   "source": [
    "correct = 0\n",
    "total = 0\n",
    "\n",
    "torch.manual_seed(999)\n",
    "\n",
    "print('Images that cannot be identified correctly :' )\n",
    "with torch.no_grad():\n",
    "    for i in range(len(test_X)):\n",
    "        real_class = torch.argmax(test_y[i]) # Grab the actual class of the testing data\n",
    "        net_out = net(test_X[i].view(-1, 1, 200, 200))[0]  # Put the testing data in the network, returns a list\n",
    "        predicted_class = torch.argmax(net_out) # Grab the predicted class of the testing data\n",
    "\n",
    "        if predicted_class == real_class:\n",
    "            correct += 1\n",
    "        else:\n",
    "            print(i)\n",
    "        total += 1\n",
    "\n",
    "print(\"\\nNumber Of Images Tested =\", total)\n",
    "print(\"Number Of Images Correctly Identified =\", correct)    \n",
    "print(\"\\nAccuracy: \", round(correct/total, 3))"
   ]
  },
  {
   "cell_type": "markdown",
   "metadata": {},
   "source": [
    "### Test One Images\n",
    "\n"
   ]
  },
  {
   "cell_type": "code",
   "execution_count": 15,
   "metadata": {},
   "outputs": [
    {
     "data": {
      "text/plain": [
       "<matplotlib.image.AxesImage at 0x24018ed6d00>"
      ]
     },
     "execution_count": 15,
     "metadata": {},
     "output_type": "execute_result"
    },
    {
     "data": {
      "image/png": "[encoded data removed]",
      "text/plain": [
       "<Figure size 432x288 with 1 Axes>"
      ]
     },
     "metadata": {
      "needs_background": "light"
     },
     "output_type": "display_data"
    }
   ],
   "source": [
    "# The 10th Image in the teseting set\n",
    "plt.imshow(test_X[10], cmap=\"gray\")"
   ]
  },
  {
   "cell_type": "code",
   "execution_count": 16,
   "metadata": {},
   "outputs": [
    {
     "name": "stdout",
     "output_type": "stream",
     "text": [
      "Actual Class of the Image :  tensor([0., 0., 0., 0., 0., 1.])\n",
      "Predicted Class of the Image :  tensor(5)\n"
     ]
    }
   ],
   "source": [
    "# Actual class of the image\n",
    "print('Actual Class of the Image : ' , test_y[10])\n",
    "\n",
    "# Predicted class of the image\n",
    "net_out_10 = net(test_X[10].view(-1, 1, 200, 200))[0]  # Put the testing data in the network, returns a list\n",
    "predicted_class_10 = torch.argmax(net_out_10) \n",
    "print('Predicted Class of the Image : ' , predicted_class_10)"
   ]
  },
  {
   "cell_type": "markdown",
   "metadata": {},
   "source": [
    "Recall LABELS = {crazing : 0 , inclusions : 1 , patches : 2, pittedSurface : 3, rolledInScale : 4, scratches : 5},  \n",
    "both predicted and actual class of the 10th image in the testing set is **5, scratches**.\n",
    "The model predict the class correctly.\n",
    "\n",
    "### Check the incorrect image"
   ]
  },
  {
   "cell_type": "code",
   "execution_count": 22,
   "metadata": {},
   "outputs": [
    {
     "data": {
      "text/plain": [
       "<matplotlib.image.AxesImage at 0x2401aa37dc0>"
      ]
     },
     "execution_count": 22,
     "metadata": {},
     "output_type": "execute_result"
    },
    {
     "data": {
      "image/png": "[encoded data removed]",
      "text/plain": [
       "<Figure size 432x288 with 1 Axes>"
      ]
     },
     "metadata": {
      "needs_background": "light"
     },
     "output_type": "display_data"
    }
   ],
   "source": [
    "# The 19th Image in the teseting set\n",
    "plt.imshow(test_X[19], cmap=\"gray\")"
   ]
  },
  {
   "cell_type": "code",
   "execution_count": 20,
   "metadata": {},
   "outputs": [
    {
     "name": "stdout",
     "output_type": "stream",
     "text": [
      "Actual Class of the Image :  tensor([0., 1., 0., 0., 0., 0.])\n",
      "Predicted Class of the Image :  tensor(3)\n"
     ]
    }
   ],
   "source": [
    "# Actual class of the image\n",
    "print('Actual Class of the Image : ' , test_y[19])\n",
    "\n",
    "# Predicted class of the image\n",
    "net_out_19 = net(test_X[19].view(-1, 1, 200, 200))[0]  # Put the testing data in the network, returns a list\n",
    "predicted_class_19 = torch.argmax(net_out_19) \n",
    "print('Predicted Class of the Image : ' , predicted_class_19)"
   ]
  },
  {
   "cell_type": "markdown",
   "metadata": {},
   "source": [
    "This is an image of **inclusions** but the network classifies it as **pitted surface**. For pitted surface, we can see many small dots on the surface. The neural network may get confused as the image above shows many **noises(dark dots)**. But the neural network should have recognised the feature of inclusions, i.e. the black lines."
   ]
  },
  {
   "cell_type": "code",
   "execution_count": null,
   "metadata": {},
   "outputs": [],
   "source": []
  }
 ],
 "metadata": {
  "kernelspec": {
   "display_name": "Python 3",
   "language": "python",
   "name": "python3"
  },
  "language_info": {
   "codemirror_mode": {
    "name": "ipython",
    "version": 3
   },
   "file_extension": ".py",
   "mimetype": "text/x-python",
   "name": "python",
   "nbconvert_exporter": "python",
   "pygments_lexer": "ipython3",
   "version": "3.8.3"
  }
 },
 "nbformat": 4,
 "nbformat_minor": 4
}
